{
 "cells": [
  {
   "cell_type": "markdown",
   "id": "extensive-immigration",
   "metadata": {},
   "source": [
    "# Assignment 1"
   ]
  },
  {
   "cell_type": "markdown",
   "id": "authorized-bunny",
   "metadata": {},
   "source": [
    "1. In the below elements which of them are values or an expression? eg:- values can be integer or string and expressions will be mathematical operators.\n",
    "\n"
   ]
  },
  {
   "cell_type": "code",
   "execution_count": null,
   "id": "deadly-madness",
   "metadata": {},
   "outputs": [],
   "source": [
    "##  *- multiplication operator\n",
    "'*  -expression (multiplication)\n",
    "'hello' -string\n",
    "-87.8 -float\n",
    "- -expression (substraction)\n",
    "/ -division\n",
    "+\t-addition\n",
    "6 -integer"
   ]
  },
  {
   "cell_type": "markdown",
   "id": "lesser-eugene",
   "metadata": {},
   "source": [
    "2 What is the difference between string and variable?"
   ]
  },
  {
   "cell_type": "code",
   "execution_count": null,
   "id": "mediterranean-agent",
   "metadata": {},
   "outputs": [],
   "source": [
    "## eg string is a data type whereas varibale where we can assign /store a value\n",
    "\"countt\"- this is a string\n",
    "count--- this is a varibale."
   ]
  },
  {
   "cell_type": "markdown",
   "id": "comic-theory",
   "metadata": {},
   "source": [
    "3. Describe three different data types"
   ]
  },
  {
   "cell_type": "code",
   "execution_count": null,
   "id": "activated-comparison",
   "metadata": {},
   "outputs": [],
   "source": [
    "1. int-- integer datatype values like 1,2,3 \n",
    "2. float- float datattype values like 1.2,3.5 (in decimal number)\n",
    "3. string- string datatype values like characters or aplhabets which are mentioned inside single quote or double quote\n"
   ]
  },
  {
   "cell_type": "markdown",
   "id": "higher-eating",
   "metadata": {},
   "source": [
    "4. What is an expression made up of? What do all expressions do?"
   ]
  },
  {
   "cell_type": "code",
   "execution_count": null,
   "id": "neither-designation",
   "metadata": {},
   "outputs": [],
   "source": [
    "An expression is expressed by using different opperators.\n",
    "e.g. 5+6-6\n",
    "10%3\n"
   ]
  },
  {
   "cell_type": "markdown",
   "id": "accurate-import",
   "metadata": {},
   "source": [
    "5. This assignment statements, like spam = 10. What is the difference between an expression and a statement?"
   ]
  },
  {
   "cell_type": "code",
   "execution_count": null,
   "id": "round-programming",
   "metadata": {},
   "outputs": [],
   "source": [
    "Expressions a logical sequence of operators and operands \n",
    "while statements are standalone statements which is performed in a single go .\n",
    "spam=10  , means 10 is assigned to varibale spam whereas\n",
    "spam==10 , means it is an expression where it compares the value of spam variable with int 10"
   ]
  },
  {
   "cell_type": "markdown",
   "id": "ethical-dubai",
   "metadata": {},
   "source": [
    "6. After running the following code, what does the variable bacon contain?\n",
    "bacon = 22\n",
    "bacon + 1\n"
   ]
  },
  {
   "cell_type": "code",
   "execution_count": 2,
   "id": "portable-capacity",
   "metadata": {},
   "outputs": [
    {
     "data": {
      "text/plain": [
       "23"
      ]
     },
     "execution_count": 2,
     "metadata": {},
     "output_type": "execute_result"
    }
   ],
   "source": [
    "bacon=22\n",
    "bacon+1"
   ]
  },
  {
   "cell_type": "markdown",
   "id": "vital-tulsa",
   "metadata": {},
   "source": [
    "7. What should the values of the following two terms be?\n",
    "\n",
    "'spam' + 'spamspam'\n",
    "'spam' * 3\n"
   ]
  },
  {
   "cell_type": "code",
   "execution_count": null,
   "id": "valuable-transformation",
   "metadata": {},
   "outputs": [],
   "source": [
    "'spam' + 'spamspam'='spamspamspam'\n",
    "'spam' * 3= 'spamspamspam'"
   ]
  },
  {
   "cell_type": "markdown",
   "id": "collected-restaurant",
   "metadata": {},
   "source": [
    "8. Why is eggs a valid variable name while 100 is invalid?"
   ]
  },
  {
   "cell_type": "code",
   "execution_count": null,
   "id": "spiritual-forestry",
   "metadata": {},
   "outputs": [],
   "source": [
    "eggs can be a variable name becasue it is not a primitive data type \n",
    "whereas 100 is an int datatype hence it can't be a varibale name"
   ]
  },
  {
   "cell_type": "markdown",
   "id": "maritime-package",
   "metadata": {},
   "source": [
    "9. What three functions can be used to get the integer, floating-point number, or string version of a value?"
   ]
  },
  {
   "cell_type": "code",
   "execution_count": null,
   "id": "competent-former",
   "metadata": {},
   "outputs": [],
   "source": [
    "int(), float(),str()"
   ]
  },
  {
   "cell_type": "markdown",
   "id": "suitable-moral",
   "metadata": {},
   "source": [
    "10. Why does this expression cause an error? How can you fix it?\n",
    "\n",
    "'I have eaten ' + 99 + ' burritos.'"
   ]
  },
  {
   "cell_type": "code",
   "execution_count": 6,
   "id": "marine-control",
   "metadata": {},
   "outputs": [
    {
     "data": {
      "text/plain": [
       "'I have eaten 99 burritos.'"
      ]
     },
     "execution_count": 6,
     "metadata": {},
     "output_type": "execute_result"
    }
   ],
   "source": [
    "'I have eaten ' + str(99) + ' burritos.'"
   ]
  },
  {
   "cell_type": "code",
   "execution_count": null,
   "id": "liquid-sending",
   "metadata": {},
   "outputs": [],
   "source": []
  },
  {
   "cell_type": "code",
   "execution_count": null,
   "id": "checked-clothing",
   "metadata": {},
   "outputs": [],
   "source": []
  },
  {
   "cell_type": "code",
   "execution_count": null,
   "id": "ultimate-religion",
   "metadata": {},
   "outputs": [],
   "source": []
  },
  {
   "cell_type": "code",
   "execution_count": null,
   "id": "humanitarian-fluid",
   "metadata": {},
   "outputs": [],
   "source": []
  },
  {
   "cell_type": "code",
   "execution_count": null,
   "id": "sporting-services",
   "metadata": {},
   "outputs": [],
   "source": []
  },
  {
   "cell_type": "code",
   "execution_count": null,
   "id": "mobile-acrobat",
   "metadata": {},
   "outputs": [],
   "source": []
  }
 ],
 "metadata": {
  "kernelspec": {
   "display_name": "Python 3",
   "language": "python",
   "name": "python3"
  },
  "language_info": {
   "codemirror_mode": {
    "name": "ipython",
    "version": 3
   },
   "file_extension": ".py",
   "mimetype": "text/x-python",
   "name": "python",
   "nbconvert_exporter": "python",
   "pygments_lexer": "ipython3",
   "version": "3.8.3"
  }
 },
 "nbformat": 4,
 "nbformat_minor": 5
}
